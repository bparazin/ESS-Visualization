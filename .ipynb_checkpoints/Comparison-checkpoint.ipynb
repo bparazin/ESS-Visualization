{
 "cells": [
  {
   "cell_type": "code",
   "execution_count": null,
   "metadata": {},
   "outputs": [],
   "source": [
    "#todo: this entire notebook"
   ]
  },
  {
   "cell_type": "code",
   "execution_count": null,
   "metadata": {},
   "outputs": [],
   "source": [
    "import env_methods as em\n",
    "import vis_methods as vis\n",
    "import matplotlib.pyplot as plt\n",
    "import cartopy.crs as ccrs\n",
    "import cartopy\n",
    "import matplotlib\n",
    "import numpy as np\n",
    "import datetime as dt\n",
    "import math"
   ]
  },
  {
   "cell_type": "code",
   "execution_count": null,
   "metadata": {},
   "outputs": [],
   "source": [
    "#Define bounding box in North America\n",
    "lat_start = 0\n",
    "lat_end = 90\n",
    "lon_start = -179\n",
    "lon_end =  -30\n",
    "\n",
    "#Data paths\n",
    "main_path = r'C:\\Users\\bpara\\Geo data'\n",
    "\n",
    "temps_path = r'\\temp'\n",
    "geomean_path = r'\\geopotential mean'\n",
    "rain_path = r'\\surface precip'\n",
    "snow_path = r'\\snow depth'\n",
    "moisture_path = r'\\soil moisture'\n",
    "shum_path = r'\\specific humidity'"
   ]
  }
 ],
 "metadata": {
  "kernelspec": {
   "display_name": "Python 3",
   "language": "python",
   "name": "python3"
  },
  "language_info": {
   "codemirror_mode": {
    "name": "ipython",
    "version": 3
   },
   "file_extension": ".py",
   "mimetype": "text/x-python",
   "name": "python",
   "nbconvert_exporter": "python",
   "pygments_lexer": "ipython3",
   "version": "3.8.5"
  }
 },
 "nbformat": 4,
 "nbformat_minor": 4
}
