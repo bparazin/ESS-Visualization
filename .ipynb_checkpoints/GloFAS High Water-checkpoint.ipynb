{
 "cells": [
  {
   "cell_type": "code",
   "execution_count": 1,
   "metadata": {},
   "outputs": [],
   "source": [
    "import env_methods as em\n",
    "import os\n",
    "import datetime as dt\n",
    "import pickle"
   ]
  },
  {
   "cell_type": "code",
   "execution_count": 2,
   "metadata": {},
   "outputs": [],
   "source": [
    "file_path = r'C:\\Users\\bpara\\Geo data\\GloFAS total\\Full period data'"
   ]
  },
  {
   "cell_type": "code",
   "execution_count": 3,
   "metadata": {},
   "outputs": [],
   "source": [
    "with open(file_path, 'rb') as f:\n",
    "        miss_data = pickle.load(f)"
   ]
  },
  {
   "cell_type": "code",
   "execution_count": 32,
   "metadata": {},
   "outputs": [],
   "source": [
    "#This is a function that, when given a dict with a time datakey containing datetime objects after 1900 (non-inclusive),\n",
    "#returns a list of tuples containing all of the start and end indices (inclusive, noninclusive) of wateryears in the time interval\n",
    "\n",
    "def get_wyr_indices(data):\n",
    "    result = []\n",
    "    \n",
    "    for today in data[\"time\"]:\n",
    "        if today.month == 10 and today.day == 1:\n",
    "            #check for leap years\n",
    "            if (today.year + 1) % 4 == 0:\n",
    "                if data[\"time\"][em.find_closest_val(today + dt.timedelta(days = 366), data[\"time\"])].month == 10 and data[\"time\"][em.find_closest_val(today + dt.timedelta(days = 366), data[\"time\"])].day == 1:\n",
    "                    result.append((em.find_closest_val(today, data[\"time\"]), em.find_closest_val(today + dt.timedelta(days = 366), data[\"time\"])))\n",
    "            else:\n",
    "                if data[\"time\"][em.find_closest_val(today + dt.timedelta(days = 365), data[\"time\"])].month == 10 and data[\"time\"][em.find_closest_val(today + dt.timedelta(days = 365), data[\"time\"])].day == 1:\n",
    "                    result.append((em.find_closest_val(today, data[\"time\"]), em.find_closest_val(today + dt.timedelta(days = 365), data[\"time\"])))\n",
    "    \n",
    "    return result"
   ]
  },
  {
   "cell_type": "code",
   "execution_count": 101,
   "metadata": {},
   "outputs": [],
   "source": [
    "#This is a function that, when given a dict with lat, lon, time and datakey keys, finds the maximum value of the datakey value of a certain (valid) lat lon pair in every complete water year.\n",
    "\n",
    "def get_wyr_max(data, datakey, lat, lon):\n",
    "    lat_i = em.find_closest_val(lat, data[\"lat\"])\n",
    "    lon_i = em.find_closest_val(lon, data[\"lon\"])\n",
    "    \n",
    "    result = []\n",
    "    \n",
    "    for timepair in get_wyr_indices(data):\n",
    "        maxval = data[datakey][timepair[0]][lat][lon]\n",
    "        for day in data[datakey][timepair[0]:timepair[1]]:\n",
    "            if day[lat][lon] > maxval:\n",
    "                maxval = day[lat][lon]\n",
    "        result.append((maxval, data[\"time\"][timepair[1]].year))\n",
    "    \n",
    "    result.sort(key = lambda x: -x[0])\n",
    "    \n",
    "    return result"
   ]
  },
  {
   "cell_type": "code",
   "execution_count": null,
   "metadata": {},
   "outputs": [],
   "source": [
    "#This is a function that, when given a dict with lat, lon, time and datakey keys, returns a dict with lat, lon and maxima keys. \n",
    "#The maxima key returns a 2-d array where dict[\"maxima\"][lat][lon] is the ordered list of maximum values for each water year at that lat lon\n",
    "\n",
    "def get_wyr_maxima(data, datakey):\n",
    "    "
   ]
  }
 ],
 "metadata": {
  "kernelspec": {
   "display_name": "Python 3",
   "language": "python",
   "name": "python3"
  },
  "language_info": {
   "codemirror_mode": {
    "name": "ipython",
    "version": 3
   },
   "file_extension": ".py",
   "mimetype": "text/x-python",
   "name": "python",
   "nbconvert_exporter": "python",
   "pygments_lexer": "ipython3",
   "version": "3.8.5"
  }
 },
 "nbformat": 4,
 "nbformat_minor": 4
}
