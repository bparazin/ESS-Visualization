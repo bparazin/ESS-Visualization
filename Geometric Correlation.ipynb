{
 "cells": [
  {
   "cell_type": "code",
   "execution_count": 109,
   "metadata": {},
   "outputs": [],
   "source": [
    "import pickle\n",
    "import os\n",
    "import numpy as np\n",
    "import datetime as dt\n",
    "import vis_methods as vs\n",
    "import env_methods as em"
   ]
  },
  {
   "cell_type": "code",
   "execution_count": 110,
   "metadata": {},
   "outputs": [],
   "source": [
    "main_path = r'C:\\Users\\bpara\\Geo data'\n",
    "\n",
    "flood_time_series = os.path.join(main_path, \"time series result\")"
   ]
  },
  {
   "cell_type": "code",
   "execution_count": 111,
   "metadata": {},
   "outputs": [],
   "source": [
    "with open(flood_time_series, \"rb\") as f:\n",
    "    flood_data = pickle.load(f)\n",
    "    \n",
    "with open(\"mississippi points list\", \"rb\") as f:\n",
    "    river_points = pickle.load(f)"
   ]
  },
  {
   "cell_type": "code",
   "execution_count": 112,
   "metadata": {},
   "outputs": [],
   "source": [
    "def geo_corr(dataset, datakey, lat_i_1, lon_i_1, lat_i_2, lon_i_2):\n",
    "    t_1 = dt.datetime.now()\n",
    "    if(dataset[datakey][lat_i_2][lon_i_2][datakey] == None): return np.nan\n",
    "    return np.corrcoef(dataset[datakey][lat_i_1][lon_i_1][datakey],dataset[datakey][lat_i_2][lon_i_2][datakey])[0,1]"
   ]
  },
  {
   "cell_type": "code",
   "execution_count": 113,
   "metadata": {},
   "outputs": [],
   "source": [
    "def geo_corr_map(dataset, datakey, lat_i, lon_i):\n",
    "    result = dict()\n",
    "    result[\"lon\"] = dataset[\"lon\"]\n",
    "    result[\"lat\"] = dataset[\"lat\"]\n",
    "    result[\"pearson\"] = []\n",
    "    \n",
    "    t1 = dt.datetime.now()\n",
    "    for lat in range(len(dataset[\"lat\"])):\n",
    "        row = []\n",
    "        for lon in range(len(dataset[\"lon\"])):\n",
    "            row.append(geo_corr(dataset, datakey, lat_i, lon_i, lat, lon))\n",
    "        result[\"pearson\"].append(row)\n",
    "    t2 = dt.datetime.now()\n",
    "    print(\"completed in \" + str(t2 - t1))\n",
    "        \n",
    "    return result"
   ]
  },
  {
   "cell_type": "code",
   "execution_count": 114,
   "metadata": {},
   "outputs": [],
   "source": [
    "#this replaces every value not at a point in the trimmed rivers data set with NaN so it won't be graphed by matplotlib\n",
    "def trim_to_river(river_points, data, datakey):\n",
    "    t1 = dt.datetime.now()\n",
    "    result = data.copy()\n",
    "    for lat_i in range(len(result[\"lat\"])):\n",
    "        for lon_i in range(len(result[\"lon\"])):\n",
    "            point = (round(data[\"lon\"][lon_i],2), round(result[\"lat\"][lat_i], 2))\n",
    "            if point not in river_points:\n",
    "                result[datakey][lat_i][lon_i] = np.nan\n",
    "    print(\"Done in \" + str(dt.datetime.now() - t1))\n",
    "    return result"
   ]
  },
  {
   "cell_type": "code",
   "execution_count": 115,
   "metadata": {},
   "outputs": [
    {
     "name": "stdout",
     "output_type": "stream",
     "text": [
      "completed in 0:00:12.441070\n"
     ]
    }
   ],
   "source": [
    "lat = 38.6270\n",
    "lon = -90.1994\n",
    "\n",
    "corr = geo_corr_map(flood_data, \"count\", em.find_closest_val(lat, flood_data[\"lat\"]), em.find_closest_val(lon, flood_data[\"lon\"]))"
   ]
  },
  {
   "cell_type": "code",
   "execution_count": null,
   "metadata": {},
   "outputs": [],
   "source": [
    "vs.plot_data(corr[\"lon\"], corr[\"lat\"], np.asarray(corr[\"pearson\"]), \"Pearson Correlation\", \"Correlation between flood time series between St. Louis and each point in Mississippi basin\",\n",
    "         lon_min =-115 , lon_max=-74, lat_min =51 , lat_max =27, has_scale_bounds = True, scale_min = -1, scale_max = 1, has_rivers = False)"
   ]
  },
  {
   "cell_type": "code",
   "execution_count": null,
   "metadata": {},
   "outputs": [],
   "source": [
    "corr_trimmed = trim_to_river(river_points, corr.copy(), \"pearson\")"
   ]
  },
  {
   "cell_type": "code",
   "execution_count": null,
   "metadata": {},
   "outputs": [],
   "source": [
    "vs.plot_data(corr_trimmed[\"lon\"], corr_trimmed[\"lat\"], np.asarray(corr_trimmed[\"pearson\"]), \"Pearson Correlation\", \"Correlation between flood time series between St. Louis and each point in Mississippi basin\",\n",
    "         lon_min =-115 , lon_max=-74, lat_min =51 , lat_max =27, has_scale_bounds = True, scale_min = -1, scale_max = 1, has_rivers = False)"
   ]
  },
  {
   "cell_type": "code",
   "execution_count": null,
   "metadata": {},
   "outputs": [],
   "source": []
  }
 ],
 "metadata": {
  "kernelspec": {
   "display_name": "Python 3",
   "language": "python",
   "name": "python3"
  },
  "language_info": {
   "codemirror_mode": {
    "name": "ipython",
    "version": 3
   },
   "file_extension": ".py",
   "mimetype": "text/x-python",
   "name": "python",
   "nbconvert_exporter": "python",
   "pygments_lexer": "ipython3",
   "version": "3.8.5"
  }
 },
 "nbformat": 4,
 "nbformat_minor": 4
}
