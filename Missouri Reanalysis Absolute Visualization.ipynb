{
 "cells": [
  {
   "cell_type": "markdown",
   "metadata": {},
   "source": [
    "This is a depreciated notebook. Anything good in it has been moved over to vis_methods, what's left is me calling a couple vis methods functions and some really bad functions that should not see the light of day"
   ]
  },
  {
   "cell_type": "markdown",
   "metadata": {},
   "source": [
    "Import packages"
   ]
  },
  {
   "cell_type": "code",
   "execution_count": 1,
   "metadata": {},
   "outputs": [],
   "source": [
    "import env_methods as em\n",
    "import vis_methods as vis\n",
    "import matplotlib.pyplot as plt\n",
    "import cartopy.crs as ccrs\n",
    "import cartopy\n",
    "import numpy as np\n",
    "import math\n",
    "import time\n",
    "import datetime as dt"
   ]
  },
  {
   "cell_type": "markdown",
   "metadata": {},
   "source": [
    "Basic parameters"
   ]
  },
  {
   "cell_type": "code",
   "execution_count": 2,
   "metadata": {},
   "outputs": [],
   "source": [
    "#Define bounding box in North America\n",
    "lat_start = 0\n",
    "lat_end = 90\n",
    "lon_start = -179\n",
    "lon_end =  -30\n",
    "\n",
    "#Data paths\n",
    "main_path = r'C:\\Users\\bpara\\Geo data'\n",
    "\n",
    "temps_path = r'\\temp'\n",
    "geomean_path = r'\\geopotential mean'\n",
    "rain_path = r'\\surface precip'\n",
    "snow_path = r'\\snow depth'\n",
    "moisture_path = r'\\soil moisture'\n",
    "shum_path = r'\\specific humidity'\n",
    "\n",
    "#Time stuff\n",
    "month_to_show = 4 #What number of month to show, 0 = Dec 1843, 1 = Jan 1844, 2 = Feb 1844...\n",
    "months = [\"December\", \"January\", \"February\", \"March\", \"April\", \"May\", \"June\", \"July\", \"August\", \"September\", \"October\", \"November\"]"
   ]
  },
  {
   "cell_type": "markdown",
   "metadata": {},
   "source": [
    "Import data"
   ]
  },
  {
   "cell_type": "code",
   "execution_count": 3,
   "metadata": {},
   "outputs": [
    {
     "name": "stdout",
     "output_type": "stream",
     "text": [
      "acquring data from air.2m.mon.mean.nc\n",
      "acquring data from hgt.mon.mean.nc\n",
      "acquring data from uwnd.mon.mean.nc\n",
      "acquring data from vwnd.mon.mean.nc\n"
     ]
    }
   ],
   "source": [
    "temp_data = em.get_data(main_path+temps_path, False, [12, 1843, 12, 1844])\n",
    "mean_data = em.get_data(main_path+geomean_path, False, [12, 1843, 12, 1844])\n",
    "wind_data = em.get_data(main_path+r'\\wind', False, [12, 1843, 12, 1844])"
   ]
  },
  {
   "cell_type": "markdown",
   "metadata": {},
   "source": [
    "Draw the mapping"
   ]
  },
  {
   "cell_type": "code",
   "execution_count": 4,
   "metadata": {},
   "outputs": [
    {
     "ename": "NameError",
     "evalue": "name 'shum_data' is not defined",
     "output_type": "error",
     "traceback": [
      "\u001b[1;31m---------------------------------------------------------------------------\u001b[0m",
      "\u001b[1;31mNameError\u001b[0m                                 Traceback (most recent call last)",
      "\u001b[1;32m<ipython-input-4-57973b0a3448>\u001b[0m in \u001b[0;36m<module>\u001b[1;34m\u001b[0m\n\u001b[1;32m----> 1\u001b[1;33m vis.plot_data(shum_data[\"lon\"], shum_data[\"lat\"], \n\u001b[0m\u001b[0;32m      2\u001b[0m               \u001b[0mshum_data\u001b[0m\u001b[1;33m[\u001b[0m\u001b[1;34m\"shum\"\u001b[0m\u001b[1;33m]\u001b[0m\u001b[1;33m[\u001b[0m\u001b[0mem\u001b[0m\u001b[1;33m.\u001b[0m\u001b[0mfind_closest_val\u001b[0m\u001b[1;33m(\u001b[0m\u001b[0mdt\u001b[0m\u001b[1;33m.\u001b[0m\u001b[0mdatetime\u001b[0m\u001b[1;33m(\u001b[0m\u001b[1;36m1994\u001b[0m\u001b[1;33m,\u001b[0m \u001b[1;36m1\u001b[0m\u001b[1;33m,\u001b[0m\u001b[1;36m1\u001b[0m\u001b[1;33m)\u001b[0m\u001b[1;33m,\u001b[0m \u001b[0mrain_data\u001b[0m\u001b[1;33m[\u001b[0m\u001b[1;34m\"time\"\u001b[0m\u001b[1;33m]\u001b[0m\u001b[1;33m)\u001b[0m\u001b[1;33m]\u001b[0m\u001b[1;33m[\u001b[0m\u001b[1;36m1\u001b[0m\u001b[1;33m]\u001b[0m\u001b[1;33m,\u001b[0m\u001b[1;33m\u001b[0m\u001b[1;33m\u001b[0m\u001b[0m\n\u001b[0;32m      3\u001b[0m           \"Geopotential Height (m)\", \"Geopotential Height Mean at 850mb in January 1994\", lon_start, lon_end, lat_start, lat_end)\n\u001b[0;32m      4\u001b[0m vis.plot_data(temp_data[\"lon\"], temp_data[\"lat\"], temp_data[\"air\"][month_to_show], \"Temperature, (K)\", \n\u001b[0;32m      5\u001b[0m           \"Average Surface Temp in April 1844\", lon_start, lon_end, lat_start, lat_end)\n",
      "\u001b[1;31mNameError\u001b[0m: name 'shum_data' is not defined"
     ]
    }
   ],
   "source": [
    "vis.plot_data(shum_data[\"lon\"], shum_data[\"lat\"], \n",
    "              shum_data[\"shum\"][em.find_closest_val(dt.datetime(1994, 1,1), rain_data[\"time\"])][1], \n",
    "          \"Geopotential Height (m)\", \"Geopotential Height Mean at 850mb in January 1994\", lon_start, lon_end, lat_start, lat_end)\n",
    "vis.plot_data(temp_data[\"lon\"], temp_data[\"lat\"], temp_data[\"air\"][month_to_show], \"Temperature, (K)\", \n",
    "          \"Average Surface Temp in April 1844\", lon_start, lon_end, lat_start, lat_end)"
   ]
  },
  {
   "cell_type": "markdown",
   "metadata": {},
   "source": [
    "And now for vector wind"
   ]
  },
  {
   "cell_type": "code",
   "execution_count": null,
   "metadata": {},
   "outputs": [],
   "source": [
    "vis.plot_vector_data(wind_data[\"lon\"], wind_data[\"lat\"], wind_data[\"nc_vars\"][\"uwnd\"][month_to_show][0], \n",
    "                 wind_data[\"nc_vars\"][\"vwnd\"][month_to_show][0], \"Vector wind at 1000mb in April 1844\", \"Wind Speed (m/s)\",\n",
    "                 lon_start, lon_end, lat_start, lat_end)"
   ]
  },
  {
   "cell_type": "markdown",
   "metadata": {},
   "source": [
    "Plain vector wind can get a little messy with really long arrows, this one normalizes the length of all the arrows and only uses the color for magnitude"
   ]
  },
  {
   "cell_type": "code",
   "execution_count": null,
   "metadata": {},
   "outputs": [],
   "source": [
    "vis.plot_nvector_data(wind_data[\"lon\"], wind_data[\"lat\"], wind_data[\"nc_vars\"][\"uwnd\"][month_to_show][1], \n",
    "                 wind_data[\"nc_vars\"][\"vwnd\"][month_to_show][1], \"Vector wind at 850mb in April 1844\", \"Wind Speed (m/s)\",\n",
    "                 lon_start, lon_end, lat_start, lat_end)"
   ]
  },
  {
   "cell_type": "code",
   "execution_count": null,
   "metadata": {},
   "outputs": [],
   "source": [
    "wind_data"
   ]
  },
  {
   "cell_type": "code",
   "execution_count": null,
   "metadata": {
    "scrolled": true
   },
   "outputs": [],
   "source": [
    "#this is a terrible function I \"\"\"wrote\"\"\"\" at 1:00 AM for 1 specific purpose. It is a bastardized version of the \n",
    "#generate 6 month plot for vector fields with like half of the parameters not doing anything. At some point, I might\n",
    "#update it to something worthwhile, but until then, look upon it and weep weary traveler. \n",
    "\n",
    "def generate_six_month_plot_vector(fname, scalebar, title, data, datakey, start_year, end_year, focus_year, has_levels, level=0, \n",
    "                           lon_min = 0, lon_max = 359, lat_min = -90, lat_max = 90, \n",
    "                            has_scale_bounds = False, scale_min = -3, scale_max = 3):\n",
    "    \n",
    "    lat1 = em.find_closest_val(lat_min, data[\"lat\"])\n",
    "    lat2 = em.find_closest_val(lat_max, data[\"lat\"])\n",
    "    \n",
    "    mesh = None\n",
    "    \n",
    "    months2 = [12, 1, 2, 3, 4, 5]\n",
    "    years = [1843, 1844, 1844, 1844, 1844, 1844]\n",
    "    \n",
    "    fig, axs = plt.subplots(2,3, figsize=(30, 12), subplot_kw={'projection':ccrs.PlateCarree(central_longitude = 0)})\n",
    "    for x in range(len(axs)):\n",
    "        for y in range(len(axs[x])):\n",
    "            axs[x][y].coastlines()\n",
    "            axs[x][y].add_feature(cartopy.feature.LAKES, alpha=1)\n",
    "            axs[x][y].add_feature(cartopy.feature.RIVERS, alpha = 1)\n",
    "            axs[x][y].set_extent((lon_min, lon_max, lat_min, lat_max))\n",
    "            axs[x][y].set_xticks(data[\"lon\"][math.ceil(lon_min / 10) * 10:lon_max][::20], crs = ccrs.PlateCarree())\n",
    "            axs[x][y].set_yticks(data[\"lat\"][math.ceil(lat1 / 10) * 10:lat2][::20], crs = ccrs.PlateCarree())\n",
    "            axs[x][y].set_title(months[3*x+y])\n",
    "            time_data = None\n",
    "            time_data = [months2[3*x+y], years[3*x+y]]\n",
    "             \n",
    "            \n",
    "            cguide = np.hypot(data[\"nc_vars\"][\"uwnd\"][3*x+y, level, lat1:lat2, lon_min:lon_max][::3,::3], \n",
    "                     data[\"nc_vars\"][\"vwnd\"][3*x+y, level, lat1:lat2, lon_min:lon_max][::3,::3])\n",
    "            \n",
    "            mesh = axs[x][y].quiver(data[\"lon\"][lon_min:lon_max][::3], \n",
    "                              data[\"lat\"][lat1:lat2][::3], \n",
    "                              data[\"nc_vars\"][\"uwnd\"][3*x+y, level, lat1:lat2, lon_min:lon_max][::3,::3], \n",
    "                                    data[\"nc_vars\"][\"vwnd\"][3*x+y, level, lat1:lat2, lon_min:lon_max][::3,::3], cguide,\n",
    "                                    cmap=\"GnBu\", scale = 300)\n",
    "            \n",
    "            \n",
    "    \n",
    "    fig.subplots_adjust(right=0.8)\n",
    "    cbar_ax = fig.add_axes([0.85, 0.15, 0.05, 0.7])\n",
    "    bar = fig.colorbar(mesh, cax=cbar_ax)\n",
    "    bar.set_label(scalebar)\n",
    "    \n",
    "    fig.suptitle(title)\n",
    "    \n",
    "    plt.savefig(fname)\n",
    "            \n",
    "generate_six_month_plot_vector(\"wind 1000mb.png\", \"Wind Speed (m/s)\", \"Vector wind at 1000mb in 1843-1844\",\n",
    "                        wind_data, \"soilm\", 1836, 1980, 1844, has_levels=False, level = 0, lon_min = lon_start, lon_max = lon_end, \n",
    "                        lat_min = lat_start, lat_max = lat_end, has_scale_bounds = True, scale_min = 3, scale_max = 3)"
   ]
  }
 ],
 "metadata": {
  "kernelspec": {
   "display_name": "Python 3",
   "language": "python",
   "name": "python3"
  },
  "language_info": {
   "codemirror_mode": {
    "name": "ipython",
    "version": 3
   },
   "file_extension": ".py",
   "mimetype": "text/x-python",
   "name": "python",
   "nbconvert_exporter": "python",
   "pygments_lexer": "ipython3",
   "version": "3.8.5"
  }
 },
 "nbformat": 4,
 "nbformat_minor": 4
}
