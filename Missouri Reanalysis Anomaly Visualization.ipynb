{
 "cells": [
  {
   "cell_type": "markdown",
   "metadata": {},
   "source": [
    "Import packages"
   ]
  },
  {
   "cell_type": "code",
   "execution_count": 1,
   "metadata": {},
   "outputs": [],
   "source": [
    "import env_methods as em\n",
    "import vis_methods as vis\n",
    "import matplotlib.pyplot as plt\n",
    "import cartopy.crs as ccrs\n",
    "import numpy as np\n",
    "import math\n",
    "import time"
   ]
  },
  {
   "cell_type": "markdown",
   "metadata": {},
   "source": [
    "Basic Parameters"
   ]
  },
  {
   "cell_type": "code",
   "execution_count": 6,
   "metadata": {},
   "outputs": [],
   "source": [
    "#Define bounding box in North America\n",
    "lat_start = 0\n",
    "lat_end = 90\n",
    "lon_start = -179\n",
    "lon_end =  -30\n",
    "\n",
    "#Data paths\n",
    "main_path = r'C:\\Users\\bpara\\Geo data'\n",
    "\n",
    "temps_path = r'\\temp'\n",
    "geomean_path = r'\\geopotential mean'\n",
    "wind_path = r'\\wind'\n",
    "\n",
    "#Time stuff\n",
    "month_to_show = 5 #What number of month to show, 0 = Dec 1843, 1 = Jan 1844, 2 = Feb 1844..."
   ]
  },
  {
   "cell_type": "markdown",
   "metadata": {},
   "source": [
    "Import data"
   ]
  },
  {
   "cell_type": "code",
   "execution_count": 17,
   "metadata": {},
   "outputs": [
    {
     "name": "stdout",
     "output_type": "stream",
     "text": [
      "acquring data from air.2m.mon.mean.nc\n",
      "acquring data from hgt.mon.mean.nc\n"
     ]
    }
   ],
   "source": [
    "temp_data = em.get_data(main_path+temps_path, True)\n",
    "temp_data[\"air\"]=temp_data[\"nc_vars\"].pop(\"air\") #remove stacked structure\n",
    "\n",
    "geomean_data = em.get_data(main_path+geomean_path, True)\n",
    "geomean_data[\"hgt\"]=geomean_data[\"nc_vars\"].pop(\"hgt\")"
   ]
  },
  {
   "cell_type": "code",
   "execution_count": 25,
   "metadata": {},
   "outputs": [
    {
     "data": {
      "text/plain": [
       "2160"
      ]
     },
     "execution_count": 25,
     "metadata": {},
     "output_type": "execute_result"
    }
   ],
   "source": [
    "len(geomean_data[\"hgt\"])"
   ]
  },
  {
   "cell_type": "markdown",
   "metadata": {},
   "source": [
    "Define a function to produce mean values for a given month over a given timespan"
   ]
  },
  {
   "cell_type": "code",
   "execution_count": null,
   "metadata": {},
   "outputs": [],
   "source": [
    "def generate_means()"
   ]
  }
 ],
 "metadata": {
  "kernelspec": {
   "display_name": "Python 3",
   "language": "python",
   "name": "python3"
  },
  "language_info": {
   "codemirror_mode": {
    "name": "ipython",
    "version": 3
   },
   "file_extension": ".py",
   "mimetype": "text/x-python",
   "name": "python",
   "nbconvert_exporter": "python",
   "pygments_lexer": "ipython3",
   "version": "3.8.5"
  }
 },
 "nbformat": 4,
 "nbformat_minor": 4
}
