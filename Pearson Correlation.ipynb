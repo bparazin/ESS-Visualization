{
 "cells": [
  {
   "cell_type": "code",
   "execution_count": 120,
   "metadata": {},
   "outputs": [],
   "source": [
    "import pickle\n",
    "import env_methods as em\n",
    "import datetime as dt"
   ]
  },
  {
   "cell_type": "code",
   "execution_count": 2,
   "metadata": {},
   "outputs": [],
   "source": [
    "with open(\"Time series result\", 'rb') as f:\n",
    "        miss_data = pickle.load(f)\n",
    "        \n",
    "with open(\"Nino series\", 'rb') as f:\n",
    "        nino_data = pickle.load(f)\n",
    "        \n",
    "with open(\"PDO series\", 'rb') as f:\n",
    "        PDO_data = pickle.load(f)\n",
    "        \n",
    "with open(\"AMO series\", 'rb') as f:\n",
    "        AMO_data = pickle.load(f)"
   ]
  },
  {
   "cell_type": "code",
   "execution_count": 233,
   "metadata": {},
   "outputs": [],
   "source": [
    "#Time bounds here is inclusive, exclusive, please choose them so both datasets have values in all months in that range\n",
    "def pearson(climate_series, ckey, flood_series, fkey, lat, lon, start_time, end_time):\n",
    "    cstart_index = em.find_closest_val(start_time, climate_series[\"time\"])\n",
    "    cend_index = em.find_closest_val(end_time, climate_series[\"time\"])\n",
    "    climate_series_data = climate_series[ckey][cstart_index:cend_index]\n",
    "    #Find standard deviation of climate series\n",
    "    cmean = 0\n",
    "    ccount = 0\n",
    "    for cdata in climate_series_data:\n",
    "        if cdata != None:\n",
    "            ccount += 1\n",
    "            cmean += cdata\n",
    "    cmean /= ccount\n",
    "    \n",
    "    cstdev = 0\n",
    "    for cdata in climate_series_data:\n",
    "        if cdata!=None:\n",
    "            cstdev += (cdata - cmean) ** 2\n",
    "            \n",
    "    cstdev /= (ccount - 1)\n",
    "    cstdev **= 0.5\n",
    "    \n",
    "    flat = em.find_closest_val(lat, flood_series[\"lat\"])\n",
    "    flon = em.find_closest_val(lon, flood_series[\"lon\"])\n",
    "\n",
    "    fstart_index = em.find_closest_val(start_time, flood_series[\"count\"][flat][flon][\"time\"])\n",
    "    fend_index = em.find_closest_val(end_time, flood_series[\"count\"][flat][flon][\"time\"])\n",
    "    #Check if this is over a river or not\n",
    "    if flood_series[fkey] == None:\n",
    "        return None\n",
    "    flood_series_data = flood_series[fkey][flat][flon][fkey][fstart_index:fend_index]\n",
    "    #Find standard deviation of flood series at [lat][lon]\n",
    "    fmean = 0\n",
    "    fcount = 0\n",
    "    for fdata in flood_series_data:\n",
    "        if fdata != None:\n",
    "            fcount += 1\n",
    "            fmean += fdata\n",
    "    fmean /= fcount\n",
    "    \n",
    "    fstdev = 0\n",
    "    for fdata in flood_series_data:\n",
    "        if fdata!=None:\n",
    "            fstdev += (fdata - fmean) ** 2\n",
    "    fstdev /= (fcount - 1)\n",
    "    fstdev **= 0.5\n",
    "    \n",
    "    #Now find the covariance\n",
    "    \n",
    "    covar = 0\n",
    "    for i in range(len(climate_series_data)):\n",
    "        covar += climate_series_data[i] * flood_series_data[i]\n",
    "    \n",
    "    covar /= len(climate_series_data)\n",
    "    \n",
    "    covar -= fmean * cmean\n",
    "    \n",
    "    return covar/(fstdev * cstdev)"
   ]
  },
  {
   "cell_type": "code",
   "execution_count": null,
   "metadata": {},
   "outputs": [],
   "source": []
  },
  {
   "cell_type": "code",
   "execution_count": null,
   "metadata": {},
   "outputs": [],
   "source": []
  }
 ],
 "metadata": {
  "kernelspec": {
   "display_name": "Python 3",
   "language": "python",
   "name": "python3"
  },
  "language_info": {
   "codemirror_mode": {
    "name": "ipython",
    "version": 3
   },
   "file_extension": ".py",
   "mimetype": "text/x-python",
   "name": "python",
   "nbconvert_exporter": "python",
   "pygments_lexer": "ipython3",
   "version": "3.8.5"
  }
 },
 "nbformat": 4,
 "nbformat_minor": 4
}
