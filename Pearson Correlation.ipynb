{
 "cells": [
  {
   "cell_type": "code",
   "execution_count": 8,
   "metadata": {},
   "outputs": [],
   "source": [
    "import pickle\n",
    "import env_methods as em\n",
    "import datetime as dt\n",
    "import numpy as np"
   ]
  },
  {
   "cell_type": "code",
   "execution_count": 1,
   "metadata": {},
   "outputs": [
    {
     "ename": "FileNotFoundError",
     "evalue": "[Errno 2] No such file or directory: 'Time series result'",
     "output_type": "error",
     "traceback": [
      "\u001b[1;31m---------------------------------------------------------------------------\u001b[0m",
      "\u001b[1;31mFileNotFoundError\u001b[0m                         Traceback (most recent call last)",
      "\u001b[1;32m<ipython-input-1-9e31b39cda4e>\u001b[0m in \u001b[0;36m<module>\u001b[1;34m\u001b[0m\n\u001b[1;32m----> 1\u001b[1;33m \u001b[1;32mwith\u001b[0m \u001b[0mopen\u001b[0m\u001b[1;33m(\u001b[0m\u001b[1;34m\"Time series result\"\u001b[0m\u001b[1;33m,\u001b[0m \u001b[1;34m'rb'\u001b[0m\u001b[1;33m)\u001b[0m \u001b[1;32mas\u001b[0m \u001b[0mf\u001b[0m\u001b[1;33m:\u001b[0m\u001b[1;33m\u001b[0m\u001b[1;33m\u001b[0m\u001b[0m\n\u001b[0m\u001b[0;32m      2\u001b[0m         \u001b[0mmiss_data\u001b[0m \u001b[1;33m=\u001b[0m \u001b[0mpickle\u001b[0m\u001b[1;33m.\u001b[0m\u001b[0mload\u001b[0m\u001b[1;33m(\u001b[0m\u001b[0mf\u001b[0m\u001b[1;33m)\u001b[0m\u001b[1;33m\u001b[0m\u001b[1;33m\u001b[0m\u001b[0m\n\u001b[0;32m      3\u001b[0m \u001b[1;33m\u001b[0m\u001b[0m\n\u001b[0;32m      4\u001b[0m \u001b[1;32mwith\u001b[0m \u001b[0mopen\u001b[0m\u001b[1;33m(\u001b[0m\u001b[1;34m\"Nino series\"\u001b[0m\u001b[1;33m,\u001b[0m \u001b[1;34m'rb'\u001b[0m\u001b[1;33m)\u001b[0m \u001b[1;32mas\u001b[0m \u001b[0mf\u001b[0m\u001b[1;33m:\u001b[0m\u001b[1;33m\u001b[0m\u001b[1;33m\u001b[0m\u001b[0m\n\u001b[0;32m      5\u001b[0m         \u001b[0mnino_data\u001b[0m \u001b[1;33m=\u001b[0m \u001b[0mpickle\u001b[0m\u001b[1;33m.\u001b[0m\u001b[0mload\u001b[0m\u001b[1;33m(\u001b[0m\u001b[0mf\u001b[0m\u001b[1;33m)\u001b[0m\u001b[1;33m\u001b[0m\u001b[1;33m\u001b[0m\u001b[0m\n",
      "\u001b[1;31mFileNotFoundError\u001b[0m: [Errno 2] No such file or directory: 'Time series result'"
     ]
    }
   ],
   "source": [
    "with open(\"Time series result\", 'rb') as f:\n",
    "        miss_data = pickle.load(f)\n",
    "        \n",
    "with open(\"Nino series\", 'rb') as f:\n",
    "        nino_data = pickle.load(f)\n",
    "        \n",
    "with open(\"PDO series\", 'rb') as f:\n",
    "        PDO_data = pickle.load(f)\n",
    "        \n",
    "with open(\"AMO series\", 'rb') as f:\n",
    "        AMO_data = pickle.load(f)"
   ]
  },
  {
   "cell_type": "code",
   "execution_count": 5,
   "metadata": {},
   "outputs": [],
   "source": [
    "#Time bounds here is inclusive, exclusive, please choose them so both datasets have values in all months in that range\n",
    "def pearson(climate_series, ckey, flood_series, fkey, lat, lon, start_time, end_time):\n",
    "    cstart_index = em.find_closest_val(start_time, climate_series[\"time\"])\n",
    "    cend_index = em.find_closest_val(end_time, climate_series[\"time\"])\n",
    "    climate_series_data = climate_series[ckey][cstart_index:cend_index]\n",
    "    #Find standard deviation of climate series\n",
    "    cmean = 0\n",
    "    ccount = 0\n",
    "    for cdata in climate_series_data:\n",
    "        if cdata != None:\n",
    "            ccount += 1\n",
    "            cmean += cdata\n",
    "    cmean /= ccount\n",
    "    \n",
    "    cstdev = 0\n",
    "    for cdata in climate_series_data:\n",
    "        if cdata!=None:\n",
    "            cstdev += (cdata - cmean) ** 2\n",
    "            \n",
    "    cstdev /= (ccount - 1)\n",
    "    cstdev **= 0.5\n",
    "    \n",
    "    flat = em.find_closest_val(lat, flood_series[\"lat\"])\n",
    "    flon = em.find_closest_val(lon, flood_series[\"lon\"])\n",
    "\n",
    "    fstart_index = em.find_closest_val(start_time, flood_series[\"count\"][flat][flon][\"time\"])\n",
    "    fend_index = em.find_closest_val(end_time, flood_series[\"count\"][flat][flon][\"time\"])\n",
    "    #Check if this is over a river or not\n",
    "    if flood_series[fkey] == None:\n",
    "        return np.nan\n",
    "    flood_series_data = flood_series[fkey][flat][flon][fkey][fstart_index:fend_index]\n",
    "    #Find standard deviation of flood series at [lat][lon]\n",
    "    fmean = 0\n",
    "    fcount = 0\n",
    "    for fdata in flood_series_data:\n",
    "        if fdata != None:\n",
    "            fcount += 1\n",
    "            fmean += fdata\n",
    "    fmean /= fcount\n",
    "    \n",
    "    fstdev = 0\n",
    "    for fdata in flood_series_data:\n",
    "        if fdata!=None:\n",
    "            fstdev += (fdata - fmean) ** 2\n",
    "    fstdev /= (fcount - 1)\n",
    "    fstdev **= 0.5\n",
    "    \n",
    "    #Now find the covariance\n",
    "    \n",
    "    covar = 0\n",
    "    for i in range(len(climate_series_data)):\n",
    "        covar += climate_series_data[i] * flood_series_data[i]\n",
    "    \n",
    "    covar /= len(climate_series_data)\n",
    "    \n",
    "    covar -= fmean * cmean\n",
    "    \n",
    "    return covar/(fstdev * cstdev)"
   ]
  },
  {
   "cell_type": "code",
   "execution_count": 19,
   "metadata": {},
   "outputs": [],
   "source": [
    "def pearson_mapping(climate_series, ckey, flood_series, fkey, start_time, end_time):\n",
    "    result = dict()\n",
    "    result[\"lon\"] = flood_series[\"lon\"]\n",
    "    result[\"lat\"] = flood_series[\"lat\"]\n",
    "    result[\"pearson\"] = []\n",
    "    \n",
    "    for lat in flood_series[\"lat\"]:\n",
    "        t1 = dt.datetime.now()\n",
    "        print(\"starting on latitude \" + str(lat))\n",
    "        row = []\n",
    "        for lon in data[\"lon\"]:\n",
    "            row.append(pearson(climate_series, ckey, flood_series, fkey, lat, lon, start_time, end_time))\n",
    "            \n",
    "        result[\"pearson\"].append(row)\n",
    "        t2 = dt.datetime.now()\n",
    "        print(\"Latitude \" + str(lat) +\" done in \" + str(t2 - t1))\n",
    "        \n",
    "    return result"
   ]
  },
  {
   "cell_type": "code",
   "execution_count": null,
   "metadata": {},
   "outputs": [],
   "source": []
  }
 ],
 "metadata": {
  "kernelspec": {
   "display_name": "Python 3",
   "language": "python",
   "name": "python3"
  },
  "language_info": {
   "codemirror_mode": {
    "name": "ipython",
    "version": 3
   },
   "file_extension": ".py",
   "mimetype": "text/x-python",
   "name": "python",
   "nbconvert_exporter": "python",
   "pygments_lexer": "ipython3",
   "version": "3.8.5"
  }
 },
 "nbformat": 4,
 "nbformat_minor": 4
}
