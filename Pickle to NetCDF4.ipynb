{
 "cells": [
  {
   "cell_type": "code",
   "execution_count": 7,
   "metadata": {},
   "outputs": [],
   "source": [
    "import pickle\n",
    "import os\n",
    "import netCDF4 as nc"
   ]
  },
  {
   "cell_type": "code",
   "execution_count": 5,
   "metadata": {},
   "outputs": [],
   "source": [
    "main_path = r'C:\\Users\\bpara\\Geo data\\Correlation Results'\n",
    "\n",
    "with open(os.path.join(main_path, r'amo corr'), 'rb') as f:\n",
    "        amo_data = pickle.load(f)\n",
    "        \n",
    "with open(os.path.join(main_path, r'Nina corr'), 'rb') as f:\n",
    "        nina_data = pickle.load(f)\n",
    "        \n",
    "with open(os.path.join(main_path, r'Nino corr'), 'rb') as f:\n",
    "        nina_data = pickle.load(f)\n",
    "        \n",
    "with open(os.path.join(main_path, r'pdo corr'), 'rb') as f:\n",
    "        pdo_data = pickle.load(f)"
   ]
  },
  {
   "cell_type": "code",
   "execution_count": null,
   "metadata": {},
   "outputs": [],
   "source": []
  }
 ],
 "metadata": {
  "kernelspec": {
   "display_name": "Python 3",
   "language": "python",
   "name": "python3"
  },
  "language_info": {
   "codemirror_mode": {
    "name": "ipython",
    "version": 3
   },
   "file_extension": ".py",
   "mimetype": "text/x-python",
   "name": "python",
   "nbconvert_exporter": "python",
   "pygments_lexer": "ipython3",
   "version": "3.8.5"
  }
 },
 "nbformat": 4,
 "nbformat_minor": 4
}
